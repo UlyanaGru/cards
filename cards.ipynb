{
 "cells": [
  {
   "cell_type": "code",
   "execution_count": 1,
   "id": "1041d343",
   "metadata": {},
   "outputs": [],
   "source": [
    "import itertools"
   ]
  },
  {
   "cell_type": "code",
   "execution_count": 2,
   "id": "e5880830",
   "metadata": {},
   "outputs": [],
   "source": [
    "# Определяем количество карт каждого номинала и их очки\n",
    "cards = []"
   ]
  },
  {
   "cell_type": "code",
   "execution_count": 3,
   "id": "a42bf45c",
   "metadata": {},
   "outputs": [],
   "source": [
    "# Карты от 2 до 10, валет (11), дама (12), король (13), туз (14)\n",
    "# В колоде 4 масти для каждого номинала, всего 52 карты\n",
    "for value in range(2, 15):\n",
    "    count = 4  # 4 масти для каждого номинала\n",
    "    if value == 11:  # Валет\n",
    "        points = 11\n",
    "    elif value == 12:  # Дама\n",
    "        points = 12\n",
    "    elif value == 13:  # Король\n",
    "        points = 13\n",
    "    elif value == 14:  # Туз\n",
    "        points = 14\n",
    "    else:\n",
    "        points = value  # Остальные карты (2-10)\n",
    "    cards.extend([points] * count)  # Добавляем 4 карты этого номинала"
   ]
  },
  {
   "cell_type": "code",
   "execution_count": 4,
   "id": "ee329be7",
   "metadata": {},
   "outputs": [],
   "source": [
    "total_combinations = 0\n",
    "successful_combinations = 0"
   ]
  },
  {
   "cell_type": "code",
   "execution_count": 5,
   "id": "157aecda",
   "metadata": {},
   "outputs": [],
   "source": [
    "# Перебираем все возможные комбинации 6 карт\n",
    "for combo in itertools.combinations(cards, 6):\n",
    "    total_combinations += 1\n",
    "    if sum(combo) == 21:\n",
    "        successful_combinations += 1"
   ]
  },
  {
   "cell_type": "code",
   "execution_count": 6,
   "id": "a661a203",
   "metadata": {},
   "outputs": [],
   "source": [
    "# Вычисляем вероятность\n",
    "probability = successful_combinations / total_combinations"
   ]
  }
 ],
 "metadata": {
  "kernelspec": {
   "display_name": "Python 3",
   "language": "python",
   "name": "python3"
  },
  "language_info": {
   "codemirror_mode": {
    "name": "ipython",
    "version": 3
   },
   "file_extension": ".py",
   "mimetype": "text/x-python",
   "name": "python",
   "nbconvert_exporter": "python",
   "pygments_lexer": "ipython3",
   "version": "3.12.4"
  }
 },
 "nbformat": 4,
 "nbformat_minor": 5
}
